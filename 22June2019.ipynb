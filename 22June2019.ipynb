{
 "cells": [
  {
   "cell_type": "code",
   "execution_count": 8,
   "metadata": {},
   "outputs": [
    {
     "name": "stdout",
     "output_type": "stream",
     "text": [
      "hi every one\n"
     ]
    }
   ],
   "source": [
    "fh = open(\"book.txt\",\"r\")\n",
    "print(fh.read())\n",
    "fh.close()"
   ]
  },
  {
   "cell_type": "code",
   "execution_count": null,
   "metadata": {},
   "outputs": [],
   "source": []
  },
  {
   "cell_type": "code",
   "execution_count": 5,
   "metadata": {},
   "outputs": [],
   "source": [
    "fh = open(\"book.txt\",\"w\")"
   ]
  },
  {
   "cell_type": "code",
   "execution_count": 6,
   "metadata": {},
   "outputs": [
    {
     "data": {
      "text/plain": [
       "12"
      ]
     },
     "execution_count": 6,
     "metadata": {},
     "output_type": "execute_result"
    }
   ],
   "source": [
    "data = \"hi every one\"\n",
    "fh.write(data)"
   ]
  },
  {
   "cell_type": "code",
   "execution_count": 7,
   "metadata": {},
   "outputs": [],
   "source": [
    "fh.close()"
   ]
  },
  {
   "cell_type": "markdown",
   "metadata": {},
   "source": [
    "### date : 22 June 2019\n",
    "\n",
    "#### day obectives\n",
    "\n",
    "- Filehandling\n",
    "      - Basic file data processing\n",
    "            - Accessing and modifying file data\n",
    "      - character count\n",
    "      - line count\n",
    "      - file size\n",
    "      - word count\n",
    "      - unique word count"
   ]
  },
  {
   "cell_type": "code",
   "execution_count": 15,
   "metadata": {},
   "outputs": [
    {
     "name": "stdout",
     "output_type": "stream",
     "text": [
      "new dataline2/nline3line2\n",
      "line3line 4line 5\n",
      "line 4\n",
      "line 5\n"
     ]
    }
   ],
   "source": [
    "# read a file - file should exist(read mode)\n",
    "# write to a file - existing(append mode) or new file(write mode)\n",
    "\n",
    "def readfile(filepath):\n",
    "    with open(filepath, \"r\") as f:\n",
    "        filedata = f.read()\n",
    "    return filedata\n",
    "\n",
    "filepath = \"datafiles/data.txt\"\n",
    "print(readfile(filepath))\n",
    "    \n"
   ]
  },
  {
   "cell_type": "code",
   "execution_count": 23,
   "metadata": {},
   "outputs": [
    {
     "name": "stdout",
     "output_type": "stream",
     "text": [
      "57 bytes\n",
      "new dataline2/nline3line2\n",
      "line3line 4line 5\n",
      "line 4\n",
      "line 5\n"
     ]
    }
   ],
   "source": [
    "import os\n",
    "def readFile(filepath):\n",
    "    with open (filepath,\"r\") as f:\n",
    "        filedata = f.read()\n",
    "        l = filedata.split()\n",
    "        for word in l:\n",
    "            if not word in ul:\n",
    "                ul.append(word)\n",
    "                count = count + 1\n",
    "        print(\"unique words in text =\",count)\n",
    "        s, l, c, w = 0, 0, 0, 0\n",
    "        for i in filedata:\n",
    "            if(i ==\"\\n\"):\n",
    "                s = s+1\n",
    "            elif( i == \"\\n\"):\n",
    "                l = l+1\n",
    "            else:\n",
    "                c = c+1\n",
    "                w = s+1\n",
    "                \n",
    "    print(f\"spaces = {s}\\n lines = {1}\\n count = {c}\\n words = {w}\")\n",
    "    return filedata\n",
    "filepath = \"datafiles/data.txt\"\n",
    "print(os.path.getsize(filepath),\"bytes\")\n",
    "print(readfile(filepath))\n",
    "\n",
    "\n",
    "            \n",
    "                "
   ]
  },
  {
   "cell_type": "code",
   "execution_count": null,
   "metadata": {},
   "outputs": [],
   "source": []
  }
 ],
 "metadata": {
  "kernelspec": {
   "display_name": "Python 3",
   "language": "python",
   "name": "python3"
  },
  "language_info": {
   "codemirror_mode": {
    "name": "ipython",
    "version": 3
   },
   "file_extension": ".py",
   "mimetype": "text/x-python",
   "name": "python",
   "nbconvert_exporter": "python",
   "pygments_lexer": "ipython3",
   "version": "3.7.3"
  }
 },
 "nbformat": 4,
 "nbformat_minor": 2
}
