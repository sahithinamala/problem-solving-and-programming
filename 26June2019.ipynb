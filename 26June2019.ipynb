{
 "cells": [
  {
   "cell_type": "code",
   "execution_count": 4,
   "metadata": {},
   "outputs": [
    {
     "data": {
      "text/plain": [
       "7"
      ]
     },
     "execution_count": 4,
     "metadata": {},
     "output_type": "execute_result"
    }
   ],
   "source": [
    "# function to find second largest number\n",
    "\n",
    "def secondlargest(li):\n",
    "    #convert the list into a unique list\n",
    "    # O(n)\n",
    "    unique = []\n",
    "    for n in li:\n",
    "        if n not in unique:\n",
    "            unique.append(n)\n",
    "            \n",
    "    unique = sorted(unique,reverse = True)\n",
    "    return unique[1]\n",
    "secondlargest([1,2,3,4,2,5,8,7,1,2,8,8])\n",
    "\n",
    "#def fifthleast(li):\n",
    "#def klargest(li):\n",
    "# def ksmallest(li):"
   ]
  },
  {
   "cell_type": "code",
   "execution_count": 5,
   "metadata": {},
   "outputs": [
    {
     "data": {
      "text/plain": [
       "8"
      ]
     },
     "execution_count": 5,
     "metadata": {},
     "output_type": "execute_result"
    }
   ],
   "source": [
    "def fifthleast(li):\n",
    "    #convert the list into a unique list\n",
    "    # O(n)\n",
    "    unique = []\n",
    "    for n in li:\n",
    "        if n not in unique:\n",
    "            unique.append(n)\n",
    "            \n",
    "    unique = sorted(unique)\n",
    "    return unique[6]\n",
    "fifthleast([1,2,3,4,2,5,8,7,1,2,8,8])\n"
   ]
  },
  {
   "cell_type": "code",
   "execution_count": 10,
   "metadata": {},
   "outputs": [
    {
     "data": {
      "text/plain": [
       "7"
      ]
     },
     "execution_count": 10,
     "metadata": {},
     "output_type": "execute_result"
    }
   ],
   "source": [
    "def klargest(li):\n",
    "    #convert the list into a unique list\n",
    "    # O(n)\n",
    "    k =''\n",
    "    unique = []\n",
    "    for n in li:\n",
    "        if n not in unique:\n",
    "            unique.append(n)\n",
    "            \n",
    "    unique = sorted(unique,reverse = True)\n",
    "    if len(unique)>=k:\n",
    "        unique[1]\n",
    "klargest([1,2,3,4,2,5,8,7,1,2,8,8])\n"
   ]
  },
  {
   "cell_type": "code",
   "execution_count": 18,
   "metadata": {},
   "outputs": [
    {
     "data": {
      "text/plain": [
       "3"
      ]
     },
     "execution_count": 18,
     "metadata": {},
     "output_type": "execute_result"
    }
   ],
   "source": [
    "def ksmallest(li,k):\n",
    "    #convert the list into a unique list\n",
    "    # O(n)\n",
    "    unique = []\n",
    "    for n in li:\n",
    "        if n not in unique:\n",
    "            unique.append(n)\n",
    "            \n",
    "    unique = sorted(unique)\n",
    "    if len(unique)>k:\n",
    "        return unique[k-1]\n",
    "    return -1\n",
    "ksmallest([3,3,9],1)\n"
   ]
  },
  {
   "cell_type": "code",
   "execution_count": 23,
   "metadata": {},
   "outputs": [
    {
     "data": {
      "text/plain": [
       "1"
      ]
     },
     "execution_count": 23,
     "metadata": {},
     "output_type": "execute_result"
    }
   ],
   "source": [
    "# Function to identify the element with highest frequency in a list\n",
    "# If many elements have the highest frequency, return the smallest\n",
    "# highest frequency([1,2,3,9,8,7,3,4,2,1])->1\n",
    "def highestfrequencyelement(li):\n",
    "    unique = {}\n",
    "    for n in li:\n",
    "        if n in unique:\n",
    "            unique[n] += 1\n",
    "        else:\n",
    "            unique[n] =1   \n",
    "# getting all frequencies into a list\n",
    "            freq = unique.values()\n",
    "            maxfreq = max(freq)\n",
    "            maxfreqE = []\n",
    "# Identity the smallest number with maximum frequency \n",
    "            for item in unique.items():\n",
    "                if item[1] == maxfreq:\n",
    "                    maxfreqE.append(item[0])\n",
    "            \n",
    "                # select the minimum from the keys with maximum frequency\n",
    "                maxfreqE = sorted(maxfreqE,reverse = True)\n",
    "                return min(maxfreqE)\n",
    "highestfrequencyelement([1,2,3,9,7,8,3,4,5,6])\n",
    "     \n",
    "        \n"
   ]
  },
  {
   "cell_type": "code",
   "execution_count": 28,
   "metadata": {},
   "outputs": [
    {
     "data": {
      "text/plain": [
       "1"
      ]
     },
     "execution_count": 28,
     "metadata": {},
     "output_type": "execute_result"
    }
   ],
   "source": [
    "# function to identify second highest frequency element\n",
    "# if there are many such elements, return the smallest\n",
    "#[1,2,3,2,1,4,4] -> 3\n",
    "\n",
    "\n",
    "def khighestfreqelement(li):\n",
    "    unique = {}\n",
    "    for n in li:\n",
    "        if n in unique:\n",
    "            unique[n] += 1\n",
    "        else:\n",
    "            unique[n] =1   \n",
    "# getting all frequencies into a list\n",
    "        freq = unique.values()\n",
    "        minfreq = min(freq)\n",
    "        minfreqE = []\n",
    "# Identity the smallest number with maximum frequency \n",
    "        for item in unique.items():\n",
    "            if item[1] == minfreq:\n",
    "                minfreqE.append(item[0])\n",
    "            \n",
    "                # select the minimum from the key\n",
    "            minfreqE = sorted(minfreqE)\n",
    "            return min(minfreqE)\n",
    "khighestfreqelement([1,2,3,2,1,4,4])"
   ]
  },
  {
   "cell_type": "code",
   "execution_count": 32,
   "metadata": {},
   "outputs": [
    {
     "data": {
      "text/plain": [
       "{9: 1}"
      ]
     },
     "execution_count": 32,
     "metadata": {},
     "output_type": "execute_result"
    }
   ],
   "source": [
    "# function to identify kth highest frequency element\n",
    "# if there are many such elements, return the smallest\n",
    "#[9,8,7,6,5,2,3,4,9,6,7,7,7,6,7,6],k = 4 -> 2\n",
    "def khighestfrequency(s,k):\n",
    "    # unique characters with frequencies\n",
    "    unique = {}\n",
    "    for c in s:\n",
    "        if c not in unique:\n",
    "            unique[c] = 1\n",
    "        else:\n",
    "            unique[c]+=1\n",
    "            \n",
    "        return unique\n",
    "khighestfrequency([9,8,7,6,5,2,3,4,9,6,7,7,7,6,7],3)\n",
    "    "
   ]
  },
  {
   "cell_type": "code",
   "execution_count": null,
   "metadata": {},
   "outputs": [],
   "source": []
  },
  {
   "cell_type": "code",
   "execution_count": null,
   "metadata": {},
   "outputs": [],
   "source": []
  },
  {
   "cell_type": "code",
   "execution_count": null,
   "metadata": {},
   "outputs": [],
   "source": []
  }
 ],
 "metadata": {
  "kernelspec": {
   "display_name": "Python 3",
   "language": "python",
   "name": "python3"
  },
  "language_info": {
   "codemirror_mode": {
    "name": "ipython",
    "version": 3
   },
   "file_extension": ".py",
   "mimetype": "text/x-python",
   "name": "python",
   "nbconvert_exporter": "python",
   "pygments_lexer": "ipython3",
   "version": "3.7.3"
  }
 },
 "nbformat": 4,
 "nbformat_minor": 2
}
