{
 "cells": [
  {
   "cell_type": "code",
   "execution_count": 1,
   "metadata": {},
   "outputs": [
    {
     "name": "stdout",
     "output_type": "stream",
     "text": [
      "23\n",
      "-91\n"
     ]
    }
   ],
   "source": [
    "#charsum\n",
    "def charsum(s):\n",
    "    sum = 0\n",
    "    for c in s:\n",
    "        sum=sum+ord(c)-96\n",
    "    print(sum)\n",
    "        \n",
    "s=input()\n",
    "charsum(s)"
   ]
  },
  {
   "cell_type": "code",
   "execution_count": 1,
   "metadata": {},
   "outputs": [
    {
     "name": "stdout",
     "output_type": "stream",
     "text": [
      "1 11\n"
     ]
    }
   ],
   "source": [
    "#duration\n",
    "s= \" 1 33 2 44\"\n",
    "def duration(s):\n",
    "    s=s.split()\n",
    "    sh=int(s[0])\n",
    "    sm=int(s[1])\n",
    "    eh=int(s[2])\n",
    "    em=int(s[3])\n",
    "    startminutes = (sh*60)+sm\n",
    "    endminutes=(eh*60)+em\n",
    "    return endminutes-startminutes\n",
    "def outputtimeformat(minutes):\n",
    "    hh=minutes//60\n",
    "    mm=minutes%60\n",
    "    print(hh,mm)\n",
    "    return\n",
    "minutes = duration(s)\n",
    "outputtimeformat(minutes)"
   ]
  },
  {
   "cell_type": "code",
   "execution_count": null,
   "metadata": {},
   "outputs": [],
   "source": [
    "#twostrings\n",
    "def twostrings(s1,s2):\n",
    "    count=0\n",
    "    l1 = []\n",
    "    l2 = []\n",
    "    for i in s1:\n",
    "        l1.append(i)\n",
    "    for j in s2:\n",
    "        l2.append(j)\n",
    "    l1.sort()\n",
    "    l2.sort()\n",
    "    if l1 ==l2:\n",
    "        print(\"YES\")\n",
    "    else:\n",
    "        print(\"NO\")\n",
    "        \n",
    "n=int(input())\n",
    "for i in range(n):\n",
    "    s = input()\n",
    "    l = s.split()\n",
    "    twostrings(l[0],l[1])\n"
   ]
  },
  {
   "cell_type": "code",
   "execution_count": 3,
   "metadata": {},
   "outputs": [
    {
     "data": {
      "text/plain": [
       "'s A H I T H I'"
      ]
     },
     "execution_count": 3,
     "metadata": {},
     "output_type": "execute_result"
    }
   ],
   "source": [
    "def togglestring(string):\n",
    "    string = list(string)\n",
    "    temp=[]\n",
    "    for word in string:\n",
    "        if word.islower():\n",
    "            temp.append(word.upper())\n",
    "         \n",
    "        else:\n",
    "            temp.append(word.lower())\n",
    "    return \" \".join(temp)\n",
    "togglestring(\"Sahithi\")\n",
    "           \n",
    " "
   ]
  },
  {
   "cell_type": "code",
   "execution_count": 4,
   "metadata": {},
   "outputs": [
    {
     "name": "stdout",
     "output_type": "stream",
     "text": [
      "7\n",
      "2 3 5 7 "
     ]
    }
   ],
   "source": [
    "def primenumbers(n):\n",
    "    for i in range(2,n+1):\n",
    "        flag =0\n",
    "        for j in range(2,i):\n",
    "            if(i % j) ==0:\n",
    "                flag =1\n",
    "                break\n",
    "        if flag ==0:\n",
    "            print(i,end =\" \")\n",
    "                \n",
    "n=int(input())\n",
    "primenumbers(n)"
   ]
  },
  {
   "cell_type": "code",
   "execution_count": 5,
   "metadata": {},
   "outputs": [
    {
     "name": "stdout",
     "output_type": "stream",
     "text": [
      "232\n",
      "YES\n"
     ]
    }
   ],
   "source": [
    "def palindrome(s):\n",
    "    if s ==s[::-1]:\n",
    "        return \"YES\"\n",
    "    else:\n",
    "        return \"NO\"\n",
    "s= input()\n",
    "print(palindrome(s))"
   ]
  },
  {
   "cell_type": "code",
   "execution_count": 6,
   "metadata": {},
   "outputs": [
    {
     "name": "stdout",
     "output_type": "stream",
     "text": [
      "23\n",
      "25852016738884976640000\n"
     ]
    }
   ],
   "source": [
    "def factorial(n):\n",
    "    if n ==0:\n",
    "        return 1\n",
    "    else:\n",
    "        return n*factorial(n-1)\n",
    "n=int(input())\n",
    "print(factorial(n))\n",
    "      \n"
   ]
  },
  {
   "cell_type": "code",
   "execution_count": 1,
   "metadata": {},
   "outputs": [
    {
     "name": "stdout",
     "output_type": "stream",
     "text": [
      "10\n"
     ]
    }
   ],
   "source": [
    "def countofdivisors(i,j,k):\n",
    "    count = 0\n",
    "    for a in range(i,j+1):\n",
    "        if a%k ==0:\n",
    "            count +=1\n",
    "    print(count)\n",
    "\n",
    "countofdivisors(1,10,1)"
   ]
  },
  {
   "cell_type": "code",
   "execution_count": null,
   "metadata": {},
   "outputs": [],
   "source": [
    "def playwithnumbers(sa,lb,ub):\n",
    "    \n",
    "    if lb == 1:\n",
    "        s = sa[ub-1]\n",
    "    else:\n",
    "        s=sa[ub-1]-sa[lb-2]\n",
    "    print(s // ((ub-lb)+1))\n",
    "i=input().split()\n",
    "\n",
    "n=int(i[0])\n",
    "q=int(i[1])\n",
    "\n",
    "arr=input()\n",
    "\n",
    "l=list(map(int,arr.split()))\n",
    "\n",
    "sa=[]\n",
    "\n",
    "sum = 0\n",
    "\n",
    "for i in l:\n",
    "    sum=sum+i\n",
    "    sa.append(sum)\n",
    "    \n",
    "for j in range(q):\n",
    "    s=input().split()\n",
    "    \n",
    "    lb=int(s[0])\n",
    "    ub=int(s[1])\n",
    "    playwithnumbers(sa,lb,ub)\n"
   ]
  },
  {
   "cell_type": "code",
   "execution_count": null,
   "metadata": {},
   "outputs": [],
   "source": []
  }
 ],
 "metadata": {
  "kernelspec": {
   "display_name": "Python 3",
   "language": "python",
   "name": "python3"
  },
  "language_info": {
   "codemirror_mode": {
    "name": "ipython",
    "version": 3
   },
   "file_extension": ".py",
   "mimetype": "text/x-python",
   "name": "python",
   "nbconvert_exporter": "python",
   "pygments_lexer": "ipython3",
   "version": "3.7.3"
  }
 },
 "nbformat": 4,
 "nbformat_minor": 2
}
