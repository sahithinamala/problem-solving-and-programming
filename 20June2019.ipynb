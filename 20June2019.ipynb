{
 "cells": [
  {
   "cell_type": "markdown",
   "metadata": {},
   "source": [
    "### date : 20 June 2019\n",
    "### Day Objectives\n",
    "- regular expressions:\n",
    "    -  constructing regular expressions for various use cases\n",
    "     - regular expressions module and related functions in python\n",
    "     - improving the contacts application with name and phone number validation using regular expressions\n",
    "- file handling\n",
    "    - text files\n",
    "    - upgrading the contacts application to store contact information in a text file\n"
   ]
  },
  {
   "cell_type": "markdown",
   "metadata": {},
   "source": [
    "#### regular expressions\n",
    "\n",
    "- pattern matching\n",
    "- symbolic notation of a pattern\n",
    "     - pattern : format which repeats\n",
    "     - pattern(RE) represents the set of all strings which matches that pattern\n",
    "- [0-9] -> any digit\n",
    "- [a-z] -> any lower case alphabet\n",
    "- [2468] -> all single multiples of 2\n",
    "- ^[0-9]{1}$ -> only sigle digit numbers\n",
    "\n",
    "- ^[0-9]{2}$ -> only two digit numbers\n",
    "\n",
    "- [0-9]*0$ -> all multiples of 10\n",
    "\n",
    "- ^([1-9][0-9]*[05])|^([5])$ -> all multiples of 5 other than 5\n",
    "\n",
    "- ^[1-9][0-9]{9}$     -> all 10 digit numbers\n",
    "\n",
    "- [w][o][r][d]  -> searching for a word\n",
    "\n",
    "-  ^[6-9][0-9]{9}$|^[0][6-9][0-9]{9}|^[+][9][1][6-9][0-9]$      -> validating indian phone number(india)(start with 9876)\n",
    "\n",
    "-  ^[0-9a-z][0-9a-z_.]{4,14}[0-9a-z][@][0-9a-z]{3,18}[.][a-z]{2,4}$    -> email validation(username@domain.extension)\n",
    "       - username\n",
    "   - length of username : [6,15]\n",
    "          - No special characters other than _.\n",
    "          - should not begin and end with_.\n",
    "          - character set: all digits and lower case alphabet\n",
    "          \n",
    "       - domain\n",
    "          - no special characters\n",
    "          - length of domain : [3, 15]\n",
    "          character set: all digits and lower case alphabet\n",
    "       - extension\n",
    "          - length of extension : [[2, 4]\n",
    "          - no special characters\n",
    "          - character set: lower case alphabet\n",
    "- ^[a].*[z] -> $ any number of characters between a to z"
   ]
  },
  {
   "cell_type": "code",
   "execution_count": 26,
   "metadata": {},
   "outputs": [
    {
     "name": "stdout",
     "output_type": "stream",
     "text": [
      "valid number\n"
     ]
    },
    {
     "data": {
      "text/plain": [
       "False"
      ]
     },
     "execution_count": 26,
     "metadata": {},
     "output_type": "execute_result"
    }
   ],
   "source": [
    "# function to validate a phone number\n",
    "import re\n",
    "\n",
    "def phonenumbervalidator(number):\n",
    "    pattern = \"^[6-9][0-9]{9}$|^[0][6-9][0-9]{9}|^[+][9][1][6-9][0-9]$ \"\n",
    "    if re.match(pattern,str(number)):\n",
    "        print(\"valid number\")\n",
    "    else:\n",
    "        print(\"invalid number\")\n",
    "    return\n",
    "phonenumbervalidator(8985499455)\n",
    "\n",
    "def emailvalidator(email):\n",
    "    pattern = \"^[0-9a-z][0-9a-z_.]{4,14}[0-9a-z][@][0-9a-z]{3,18}[.][a-z]{2,4}$ \"\n",
    "    if re.match(pattern,email):\n",
    "        return True\n",
    "    return False\n",
    "emailvalidator(\"namala.sahithi@gmail.com\")"
   ]
  },
  {
   "cell_type": "code",
   "execution_count": 19,
   "metadata": {},
   "outputs": [
    {
     "name": "stdout",
     "output_type": "stream",
     "text": [
      "contact sahithi added \n",
      "contact sahithi already exist\n"
     ]
    }
   ],
   "source": [
    "contacts = {}\n",
    "\n",
    "def addcontact(name, phone):\n",
    "    #verify that the contact doesnot already exist\n",
    "    if name not in contacts:\n",
    "        contacts[name] = phone\n",
    "        print(\"contact %s added \" % name)\n",
    "    if name in contacts:\n",
    "        print(\"contact %s already exist\" % name)\n",
    "    elif not phonenumbervalidator(phone):\n",
    "        print(\"phone number is invalid\")\n",
    "    return\n",
    "addcontact(\"sahithi\", \"8985499455\")"
   ]
  },
  {
   "cell_type": "code",
   "execution_count": 1,
   "metadata": {},
   "outputs": [
    {
     "ename": "NameError",
     "evalue": "name 'contacts' is not defined",
     "output_type": "error",
     "traceback": [
      "\u001b[1;31m---------------------------------------------------------------------------\u001b[0m",
      "\u001b[1;31mNameError\u001b[0m                                 Traceback (most recent call last)",
      "\u001b[1;32m<ipython-input-1-441eb2067ee6>\u001b[0m in \u001b[0;36m<module>\u001b[1;34m\u001b[0m\n\u001b[0;32m      7\u001b[0m         \u001b[0mprint\u001b[0m\u001b[1;33m(\u001b[0m\u001b[1;34m\"%s does not exist\"\u001b[0m \u001b[1;33m%\u001b[0m \u001b[0mname\u001b[0m\u001b[1;33m)\u001b[0m\u001b[1;33m\u001b[0m\u001b[1;33m\u001b[0m\u001b[0m\n\u001b[0;32m      8\u001b[0m     \u001b[1;32mreturn\u001b[0m\u001b[1;33m\u001b[0m\u001b[1;33m\u001b[0m\u001b[0m\n\u001b[1;32m----> 9\u001b[1;33m \u001b[0msearchcontacts\u001b[0m\u001b[1;33m(\u001b[0m\u001b[1;34m\"sahithi\"\u001b[0m\u001b[1;33m)\u001b[0m\u001b[1;33m\u001b[0m\u001b[1;33m\u001b[0m\u001b[0m\n\u001b[0m",
      "\u001b[1;32m<ipython-input-1-441eb2067ee6>\u001b[0m in \u001b[0;36msearchcontacts\u001b[1;34m(name)\u001b[0m\n\u001b[0;32m      1\u001b[0m \u001b[1;32mdef\u001b[0m \u001b[0msearchcontacts\u001b[0m\u001b[1;33m(\u001b[0m\u001b[0mname\u001b[0m\u001b[1;33m)\u001b[0m\u001b[1;33m:\u001b[0m\u001b[1;33m\u001b[0m\u001b[1;33m\u001b[0m\u001b[0m\n\u001b[1;32m----> 2\u001b[1;33m     \u001b[1;32mif\u001b[0m \u001b[0mname\u001b[0m \u001b[1;32min\u001b[0m \u001b[0mcontacts\u001b[0m\u001b[1;33m:\u001b[0m\u001b[1;33m\u001b[0m\u001b[1;33m\u001b[0m\u001b[0m\n\u001b[0m\u001b[0;32m      3\u001b[0m         \u001b[0mprint\u001b[0m\u001b[1;33m(\u001b[0m\u001b[0mname\u001b[0m\u001b[1;33m)\u001b[0m\u001b[1;33m\u001b[0m\u001b[1;33m\u001b[0m\u001b[0m\n\u001b[0;32m      4\u001b[0m         \u001b[0mprint\u001b[0m\u001b[1;33m(\u001b[0m\u001b[1;34m\"phone :\"\u001b[0m\u001b[1;33m,\u001b[0m \u001b[0mcontacts\u001b[0m\u001b[1;33m[\u001b[0m\u001b[0mname\u001b[0m\u001b[1;33m]\u001b[0m\u001b[1;33m[\u001b[0m\u001b[1;36m0\u001b[0m\u001b[1;33m]\u001b[0m\u001b[1;33m)\u001b[0m\u001b[1;33m\u001b[0m\u001b[1;33m\u001b[0m\u001b[0m\n\u001b[0;32m      5\u001b[0m         \u001b[0mprint\u001b[0m\u001b[1;33m(\u001b[0m\u001b[1;34m\"email :\"\u001b[0m\u001b[1;33m,\u001b[0m \u001b[0mcontacts\u001b[0m\u001b[1;33m[\u001b[0m\u001b[0mname\u001b[0m\u001b[1;33m]\u001b[0m\u001b[1;33m[\u001b[0m\u001b[1;36m1\u001b[0m\u001b[1;33m]\u001b[0m\u001b[1;33m)\u001b[0m\u001b[1;33m\u001b[0m\u001b[1;33m\u001b[0m\u001b[0m\n",
      "\u001b[1;31mNameError\u001b[0m: name 'contacts' is not defined"
     ]
    }
   ],
   "source": [
    "def searchcontacts(name):\n",
    "    if name in contacts:\n",
    "        print(name)\n",
    "        print(\"phone :\", contacts[name][0])\n",
    "        print(\"email :\", contacts[name][1])\n",
    "    else:\n",
    "        print(\"%s does not exist\" % name)\n",
    "    return\n",
    "searchcontacts(\"sahithi\")"
   ]
  },
  {
   "cell_type": "code",
   "execution_count": 8,
   "metadata": {},
   "outputs": [
    {
     "name": "stdout",
     "output_type": "stream",
     "text": [
      "sahithi\n"
     ]
    }
   ],
   "source": [
    "def listcontacts():\n",
    "    for name in contacts:\n",
    "        print(name)\n",
    "    else:\n",
    "        return\n",
    "listcontacts()"
   ]
  },
  {
   "cell_type": "code",
   "execution_count": 13,
   "metadata": {},
   "outputs": [
    {
     "name": "stdout",
     "output_type": "stream",
     "text": [
      "2 added successfully\n"
     ]
    }
   ],
   "source": [
    "# new contcts is given as a dictionary\n",
    "#merge new contacts with existing contacts\n",
    "def importcontacts(newcontacts):\n",
    "    newcontacts.update(newcontacts)\n",
    "    print(len(newcontacts.keys()),\"added successfully\")\n",
    "    return\n",
    "newcontacts = {\"nanna\": 998501737, \"nanna1\":7013979144}\n",
    "\n",
    "importcontacts(newcontacts)"
   ]
  },
  {
   "cell_type": "code",
   "execution_count": null,
   "metadata": {},
   "outputs": [],
   "source": [
    "# function to list all contacts\n",
    "def listallcontacts():\n",
    "    for contact, info in contacts.items():\n",
    "        print(contact, \"\\n\", \"phone :\", info[0], \"\\n\",\"email id:\" ,info[1])\n",
    "    return\n",
    "listallcontacts()"
   ]
  },
  {
   "cell_type": "code",
   "execution_count": null,
   "metadata": {},
   "outputs": [],
   "source": [
    "# function to edit contact information\n",
    "\n",
    "#def editcontact(name, phone, email):"
   ]
  },
  {
   "cell_type": "markdown",
   "metadata": {},
   "source": [
    "#### file handling in python\n",
    "\n",
    "file - document containing information residing on the permanent storage\n",
    "types - text, pdf , csv,  etc.,\n",
    "\n",
    "file I/O  - chanelling I/O data to files\n",
    "default I/O channels - keyboard / screen\n",
    "\n",
    "change I/O channel to files for reading and writing\n",
    "\n",
    "read a file - input\n",
    "write to a file - output to a file\n",
    "\n",
    "read/write file - open(filename, mode)\n"
   ]
  },
  {
   "cell_type": "code",
   "execution_count": 22,
   "metadata": {},
   "outputs": [
    {
     "name": "stdout",
     "output_type": "stream",
     "text": [
      "line1\n",
      "line2\n",
      "line3\n",
      "line3\n",
      "line3\n",
      "line3\n"
     ]
    }
   ],
   "source": [
    "#function to read a file\n",
    "\n",
    "def readfile(filename):\n",
    "    f = open(filename, \"r\")\n",
    "    filedata = f.read()\n",
    "    f.close()\n",
    "    return filedata\n",
    "filename =  \"datafiles/data.txt\"\n",
    "filedata = readfile(filename)\n",
    "for line in readfile(filename).split(\"\\n\"):\n",
    "    print(line)\n",
    "    \n",
    "def printfiledatalines(filename):\n",
    "    f= open(filename,\"r\")\n",
    "    for linr in f:\n",
    "        print(line)\n",
    "    return\n",
    "printfiledatalines(filename)"
   ]
  },
  {
   "cell_type": "code",
   "execution_count": 23,
   "metadata": {},
   "outputs": [],
   "source": [
    "# function to write data into a file\n",
    "\n",
    "def writeintofile(filename, filedata):\n",
    "    with open(filename, \"w\") as f:\n",
    "        f.write(filedata)\n",
    "    return\n",
    "filename = \"datafiles/data.txt\"\n",
    "\n",
    "writeintofile(filename, \"new data\")"
   ]
  },
  {
   "cell_type": "code",
   "execution_count": 30,
   "metadata": {},
   "outputs": [],
   "source": [
    "# function to append data to a file\n",
    "def appenddatatofile(filename,filedata):\n",
    "    with open(filename, \"a\") as f:\n",
    "        for line in filedata:\n",
    "            f.write(\"\\n\"+line)\n",
    "    return\n",
    "filedata = [\"line 4\", \"line 5\"]\n",
    "appenddatatofile(filename,filedata)\n",
    "\n"
   ]
  },
  {
   "cell_type": "code",
   "execution_count": null,
   "metadata": {},
   "outputs": [],
   "source": []
  }
 ],
 "metadata": {
  "kernelspec": {
   "display_name": "Python 3",
   "language": "python",
   "name": "python3"
  },
  "language_info": {
   "codemirror_mode": {
    "name": "ipython",
    "version": 3
   },
   "file_extension": ".py",
   "mimetype": "text/x-python",
   "name": "python",
   "nbconvert_exporter": "python",
   "pygments_lexer": "ipython3",
   "version": "3.7.3"
  }
 },
 "nbformat": 4,
 "nbformat_minor": 2
}
