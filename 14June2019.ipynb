{
 "cells": [
  {
   "cell_type": "markdown",
   "metadata": {},
   "source": [
    "### problem solving and programming in python - day 4\n",
    "\n",
    "#### date- 14 june 2019\n",
    "\n",
    "#### day objectives\n",
    "\n",
    "- python data structures\n",
    " - lists\n",
    " - tuples\n",
    " - dictionaries\n",
    "- Basic problem set on data structures\n",
    "- advances problem set\n",
    "- packages and modules in python"
   ]
  },
  {
   "cell_type": "code",
   "execution_count": null,
   "metadata": {},
   "outputs": [],
   "source": []
  },
  {
   "cell_type": "markdown",
   "metadata": {},
   "source": [
    "### python data structures\n",
    "\n",
    "#### lists"
   ]
  },
  {
   "cell_type": "code",
   "execution_count": 35,
   "metadata": {},
   "outputs": [
    {
     "data": {
      "text/plain": [
       "456.0"
      ]
     },
     "execution_count": 35,
     "metadata": {},
     "output_type": "execute_result"
    }
   ],
   "source": [
    "li = [123 , 978 , 654]\n",
    "li # Access the entire list\n",
    "li[1] # Access an element with index in a list\n",
    "li[1:] #Access all elements from second element to last element\n",
    "li[::-1] #reversing list elements and reassigning list\n",
    "li = li[::-1]\n",
    "li\n",
    "li[::2] # Accessing even index elements\n",
    "li[1::2] # Accessing odd index elements\n",
    "# lists can be accessed , manipulated in two different ways\n",
    "     # direct referencing - [index]\n",
    "     #indirect referencing- through functions        \n",
    "li. append(345)# adding an element to end of list\n",
    "li.insert(1,234)# adding an element at a particular index\n",
    "li.sort() # sort elements in ascending order\n",
    "li.pop()# remove the last element in a list\n",
    "li.pop(1)#remove an element at a particular index\n",
    "li2=[234,456,789]\n",
    "li.extend(li2)# merge list 2 into list 1\n",
    "sum(li) #sum of all elements in a list\n",
    "max(li)# maximum element in a list\n",
    "min(li)# minimum element in a list\n",
    "len(li) # number of elements in a list\n",
    "sum(li)/ len(li) # average of list elements\n",
    "sum(li[1::2])/len(li[1::2])# average of all alternate elements\n",
    "\n"
   ]
  },
  {
   "cell_type": "code",
   "execution_count": 36,
   "metadata": {},
   "outputs": [
    {
     "data": {
      "text/plain": [
       "234"
      ]
     },
     "execution_count": 36,
     "metadata": {},
     "output_type": "execute_result"
    }
   ],
   "source": [
    "# function to identify the second largeat element in a list\n",
    "\n",
    "def secondlargest(li):\n",
    "    li.sort()\n",
    "    return li[-2]\n",
    "secondlargest(li)\n",
    "\n",
    "# function that returns the nth largest\n",
    "def genericlargest(li,n):\n",
    "    li.sort()\n",
    "    return li[-n]\n",
    "genericlargest(li,5)\n"
   ]
  },
  {
   "cell_type": "code",
   "execution_count": null,
   "metadata": {},
   "outputs": [],
   "source": []
  }
 ],
 "metadata": {
  "kernelspec": {
   "display_name": "Python 3",
   "language": "python",
   "name": "python3"
  },
  "language_info": {
   "codemirror_mode": {
    "name": "ipython",
    "version": 3
   },
   "file_extension": ".py",
   "mimetype": "text/x-python",
   "name": "python",
   "nbconvert_exporter": "python",
   "pygments_lexer": "ipython3",
   "version": "3.7.3"
  }
 },
 "nbformat": 4,
 "nbformat_minor": 2
}
