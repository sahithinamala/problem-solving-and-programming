{
 "cells": [
  {
   "cell_type": "code",
   "execution_count": 1,
   "metadata": {},
   "outputs": [
    {
     "name": "stdout",
     "output_type": "stream",
     "text": [
      "123 234 345\n"
     ]
    }
   ],
   "source": [
    "n1 = 123456 # single variable assignment\n",
    "\n",
    "n2 = n3 = n4 = n1 # multi variable assignment of the same value\n",
    "\n",
    "a, b, c = 123, 234, 345# multi variable assignment with different values\n",
    "\n",
    "print(a,b,c)\n"
   ]
  },
  {
   "cell_type": "code",
   "execution_count": 26,
   "metadata": {},
   "outputs": [
    {
     "data": {
      "text/plain": [
       "6080799683109250479331490824837724381"
      ]
     },
     "execution_count": 26,
     "metadata": {},
     "output_type": "execute_result"
    }
   ],
   "source": [
    "n1 % 11\n",
    "\n",
    "n3 = n2 ** 123\n",
    "\n",
    "type(n3)\n",
    "len(str(n3))\n",
    "\n",
    "n3\n",
    "\n",
    "atoms=10 ** 82\n",
    "len(str(atoms))\n",
    "type(str(atoms))\n",
    "\n",
    "12221 ** 9"
   ]
  },
  {
   "cell_type": "code",
   "execution_count": 35,
   "metadata": {},
   "outputs": [
    {
     "name": "stdout",
     "output_type": "stream",
     "text": [
      "true\n"
     ]
    }
   ],
   "source": [
    "if atoms < 10 ** 98:\n",
    "    print(\"true\")\n",
    "else:\n",
    "    print(\"false\")\n"
   ]
  },
  {
   "cell_type": "code",
   "execution_count": 39,
   "metadata": {},
   "outputs": [
    {
     "name": "stdout",
     "output_type": "stream",
     "text": [
      "odd\n"
     ]
    }
   ],
   "source": [
    "# check if a number is even\n",
    "\n",
    "n=123\n",
    "if n % 2==0:\n",
    "    print(\"even\")\n",
    "else:\n",
    "    print(\"odd\")"
   ]
  },
  {
   "cell_type": "code",
   "execution_count": 51,
   "metadata": {},
   "outputs": [
    {
     "name": "stdout",
     "output_type": "stream",
     "text": [
      "enter the first number23\n",
      "enter the second number34\n",
      "enter the third number56\n",
      "56 is the greatest number\n"
     ]
    }
   ],
   "source": [
    "\n",
    "n1=input(\"enter the first number\")\n",
    "n2 =input(\"enter the second number\")\n",
    "n3 =input(\"enter the third number\")\n",
    "    \n",
    "if n1>n2 and n1>n3:\n",
    "    print(n1, \"is the greatest number\")\n",
    "elif n2>n3:\n",
    "    print(n2,\"is the greatest number\")\n",
    "else:\n",
    "    print(n3,\"is the greatest number\")\n",
    "    "
   ]
  },
  {
   "cell_type": "code",
   "execution_count": 19,
   "metadata": {},
   "outputs": [
    {
     "name": "stdout",
     "output_type": "stream",
     "text": [
      "enter the number17\n",
      "enter the LB number11\n",
      "enter the ub number33\n",
      "number in the range \n"
     ]
    }
   ],
   "source": [
    "num=input(\"enter the number\")\n",
    "lb=input(\"enter the LB number\")\n",
    "ub=input(\"enter the ub number\")\n",
    "if num>=lb and num<=ub:\n",
    "    print(\"number in the range \")\n",
    "else:\n",
    "    print(\"ding\")"
   ]
  },
  {
   "cell_type": "code",
   "execution_count": 1,
   "metadata": {},
   "outputs": [
    {
     "name": "stdout",
     "output_type": "stream",
     "text": [
      "sah\n"
     ]
    }
   ],
   "source": [
    "str1 = 'hello world'\n",
    "str2 = 'sahithi'\n",
    "print(str2[0:3])"
   ]
  },
  {
   "cell_type": "code",
   "execution_count": null,
   "metadata": {},
   "outputs": [],
   "source": []
  },
  {
   "cell_type": "code",
   "execution_count": null,
   "metadata": {},
   "outputs": [],
   "source": [
    "#check if the number is a leap year\n",
    "\n",
    "n =int(input (\"enter an year\")) \n",
    "\n",
    "if n%4 ==0 and n%100 !=0 or n%400 ==0:\n",
    "    print(n ,\"is a leap year\")\n"
   ]
  },
  {
   "cell_type": "code",
   "execution_count": null,
   "metadata": {},
   "outputs": [],
   "source": [
    "# calculate the number of digits in a number.\n",
    "\n",
    "n = input (\"any number\")\n",
    "len(str(n))"
   ]
  },
  {
   "cell_type": "code",
   "execution_count": 58,
   "metadata": {},
   "outputs": [
    {
     "name": "stdout",
     "output_type": "stream",
     "text": [
      "enter a number28\n",
      "28 is not a factor\n"
     ]
    }
   ],
   "source": [
    "#check if a number is multiple of 10\n",
    "\n",
    "n=int(input(\"enter a number\"))\n",
    "\n",
    "if n%10 ==0:\n",
    "    print(n , \"is a factor of 10\")\n",
    "else:\n",
    "    print(n, \"is not a factor\")"
   ]
  },
  {
   "cell_type": "code",
   "execution_count": 59,
   "metadata": {},
   "outputs": [
    {
     "name": "stdout",
     "output_type": "stream",
     "text": [
      "enter a number8900\n",
      "8900 is not a factor of 1000\n"
     ]
    }
   ],
   "source": [
    "#check if a number is multiple of 1000\n",
    "\n",
    "n = int(input(\"enter a number\"))\n",
    "\n",
    "if n%1000 ==0:\n",
    "    print(n, \"is a factor of 1000\")\n",
    "else:\n",
    "    print(n, \"is not a factor of 1000\")"
   ]
  },
  {
   "cell_type": "code",
   "execution_count": 8,
   "metadata": {},
   "outputs": [
    {
     "name": "stdout",
     "output_type": "stream",
     "text": [
      "enter a number13\n",
      "131\n",
      "13 false\n"
     ]
    }
   ],
   "source": [
    "#check if given string is equal to a number\n",
    "\n",
    "n= input(\"enter a number\")\n",
    "\n",
    "num=int(input(n))\n",
    "\n",
    "\n",
    "if num ==str:\n",
    "    print(n, \"true\")\n",
    "else:\n",
    "    print(n, \"false\")"
   ]
  },
  {
   "cell_type": "code",
   "execution_count": 9,
   "metadata": {},
   "outputs": [
    {
     "data": {
      "text/plain": [
       "10.954451150103322"
      ]
     },
     "execution_count": 9,
     "metadata": {},
     "output_type": "execute_result"
    }
   ],
   "source": [
    "#calculate the square root of a number withot functions\n",
    "\n",
    "n=120\n",
    "n**0.5\n"
   ]
  },
  {
   "cell_type": "code",
   "execution_count": 12,
   "metadata": {},
   "outputs": [
    {
     "name": "stdout",
     "output_type": "stream",
     "text": [
      "year2004\n",
      "31622400000000000\n"
     ]
    }
   ],
   "source": [
    "#calculate the number of nanoseconds in a given year(considering leap n=input()\n",
    "n = int(input(\"year\"))\n",
    "if n%400 ==0 or(n%100!=0 and n%4 ==0):\n",
    "    print(366*24*60*60*(10**9))\n",
    "else:\n",
    "    print(365*24*60*60*(10**9))"
   ]
  },
  {
   "cell_type": "markdown",
   "metadata": {},
   "source": [
    "### Data types\n",
    "- int\n",
    "- float\n",
    "- string\n",
    "- double6"
   ]
  },
  {
   "cell_type": "code",
   "execution_count": 19,
   "metadata": {},
   "outputs": [
    {
     "data": {
      "text/plain": [
       "12.0"
      ]
     },
     "execution_count": 19,
     "metadata": {},
     "output_type": "execute_result"
    }
   ],
   "source": [
    "type (a)\n",
    "\n",
    "s1 = \"python\"\n",
    "type(s1)\n",
    "\n",
    "f1= 12.45\n",
    "type(f1)\n",
    "\n",
    "float(int(f1))"
   ]
  },
  {
   "cell_type": "code",
   "execution_count": null,
   "metadata": {},
   "outputs": [],
   "source": []
  }
 ],
 "metadata": {
  "kernelspec": {
   "display_name": "Python 3",
   "language": "python",
   "name": "python3"
  },
  "language_info": {
   "codemirror_mode": {
    "name": "ipython",
    "version": 3
   },
   "file_extension": ".py",
   "mimetype": "text/x-python",
   "name": "python",
   "nbconvert_exporter": "python",
   "pygments_lexer": "ipython3",
   "version": "3.7.3"
  }
 },
 "nbformat": 4,
 "nbformat_minor": 2
}
