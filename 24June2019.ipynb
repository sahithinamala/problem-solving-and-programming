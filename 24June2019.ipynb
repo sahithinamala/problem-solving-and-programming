{
 "cells": [
  {
   "cell_type": "code",
   "execution_count": null,
   "metadata": {},
   "outputs": [],
   "source": [
    "#contacts application\n",
    "  # add , search, list, modify delete contacts\n",
    "    \n",
    "# find and replace application\n",
    "  # Count the total number of occurances of a word\n",
    "  # if word is existing \n",
    "  # replace all occurances of a word with another word\n",
    "    \n",
    "# marks analysis application\n",
    "  # generate marks file for n students\n",
    "  # input : marks text file- each line contain marks of one student\n",
    "  # generates a report with the following information\n",
    "     # class average\n",
    "     # % of students passed\n",
    "     # % of students failed\n",
    "     # % of students with distinction\n",
    "     #\n"
   ]
  },
  {
   "cell_type": "code",
   "execution_count": 3,
   "metadata": {},
   "outputs": [],
   "source": [
    "# function to generate marks data for n students\n",
    "from random import randint\n",
    "\n",
    "def generatemarks(n, lb , ub):\n",
    "    with open(\"datafiles/marks.txt\",\"w\") as f:\n",
    "        for i in range(0,n):\n",
    "            r = randint(lb,ub)\n",
    "            f.write(str(r) + \"\\n\")\n",
    "    return\n",
    "generatemarks(3,0,100)\n",
    "    "
   ]
  },
  {
   "cell_type": "code",
   "execution_count": null,
   "metadata": {},
   "outputs": [],
   "source": []
  }
 ],
 "metadata": {
  "kernelspec": {
   "display_name": "Python 3",
   "language": "python",
   "name": "python3"
  },
  "language_info": {
   "codemirror_mode": {
    "name": "ipython",
    "version": 3
   },
   "file_extension": ".py",
   "mimetype": "text/x-python",
   "name": "python",
   "nbconvert_exporter": "python",
   "pygments_lexer": "ipython3",
   "version": "3.7.3"
  }
 },
 "nbformat": 4,
 "nbformat_minor": 2
}
