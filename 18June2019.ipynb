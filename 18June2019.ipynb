{
 "cells": [
  {
   "cell_type": "markdown",
   "metadata": {},
   "source": [
    "### Tuples \n",
    "t1= ()\n",
    "li= []\n",
    "\n",
    "\n",
    "difference between lists and tuples\n",
    "lists are mutable-can be changed or modified\n",
    "\n",
    "- access,modify , add, delete data\n",
    "\n",
    "tuples are immutable-cannot be changed once initialised\n",
    "\n",
    "- used to access data only\n",
    "- all slicing work\n"
   ]
  },
  {
   "cell_type": "code",
   "execution_count": 1,
   "metadata": {},
   "outputs": [
    {
     "data": {
      "text/plain": [
       "(8, 6, 0)"
      ]
     },
     "execution_count": 1,
     "metadata": {},
     "output_type": "execute_result"
    }
   ],
   "source": [
    "t1 = ( 1, 2, 8, 6, 0)\n",
    "\n",
    "t1[3]# accessing the fourth element\n",
    "\n",
    "t1[2::]#accessing all elements from middle to last\n",
    "\n",
    "t1[len(t1)//2:]# accessing all elements from middle to last\n",
    "\n"
   ]
  },
  {
   "cell_type": "code",
   "execution_count": 2,
   "metadata": {},
   "outputs": [
    {
     "data": {
      "text/plain": [
       "tuple"
      ]
     },
     "execution_count": 2,
     "metadata": {},
     "output_type": "execute_result"
    }
   ],
   "source": [
    "type(t1)\n"
   ]
  },
  {
   "cell_type": "markdown",
   "metadata": {},
   "source": [
    "### Dictionaries\n",
    "\n",
    "it works on the concept of set\n",
    "\n",
    "unique data\n",
    "\n",
    "\n",
    "\n",
    "keys, values\n",
    "\n",
    "key is the unique identifier for a value\n",
    "\n",
    "value is data that can be accessed with a key"
   ]
  },
  {
   "cell_type": "code",
   "execution_count": 3,
   "metadata": {},
   "outputs": [
    {
     "data": {
      "text/plain": [
       "True"
      ]
     },
     "execution_count": 3,
     "metadata": {},
     "output_type": "execute_result"
    }
   ],
   "source": [
    "d1 = {\"k1\":\"value1\",\"k2\":\"value2\"}\n",
    "\n",
    "d1[\"k2\"] #accessing the value with key \"k2\"\n",
    "d1.keys() # returns list of all keys\n",
    "d1.values() # returns list of all values\n",
    "d1.items() # returns list of tuples of keys and values\n",
    "d1[\"k3\"]= \"value3\"# adding an element to the dictionary\n",
    "\n",
    "d1[\"k3\"]=\"value4\"#updating an element\n",
    "d1.pop(\"k3\")# removing an element\n",
    "\"k1\" in d1\n"
   ]
  },
  {
   "cell_type": "markdown",
   "metadata": {},
   "source": [
    "### contacts application\n",
    "- add contact\n",
    "- search for contact\n",
    "- list all contacts\n",
    "     - name1: phone1\n",
    "     - name2: phone2\n",
    "- modify contact\n",
    "- remove contact\n",
    "- import contacts"
   ]
  },
  {
   "cell_type": "code",
   "execution_count": 4,
   "metadata": {},
   "outputs": [
    {
     "name": "stdout",
     "output_type": "stream",
     "text": [
      "contact sahithi added \n"
     ]
    }
   ],
   "source": [
    "contacts = {}\n",
    "\n",
    "def addcontact(name, phone):\n",
    "    #verify that the contact doesnot already exist\n",
    "    if name not in contacts:\n",
    "        contacts[name] = phone\n",
    "        print(\"contact %s added \" % name)\n",
    "    else:\n",
    "        print(\"contact %s already  exists\" % name)\n",
    "    return\n",
    "addcontact(\"sahithi\", \"8985499455\")"
   ]
  },
  {
   "cell_type": "code",
   "execution_count": 5,
   "metadata": {},
   "outputs": [
    {
     "name": "stdout",
     "output_type": "stream",
     "text": [
      "sahithi : 8985499455\n"
     ]
    }
   ],
   "source": [
    "def searchcontacts(name):\n",
    "    if name in contacts:\n",
    "        print(name,\":\",contacts[name])\n",
    "    else:\n",
    "        print(\"%s does not exist\" % name)\n",
    "    return\n",
    "searchcontacts(\"sahithi\")"
   ]
  },
  {
   "cell_type": "code",
   "execution_count": 6,
   "metadata": {},
   "outputs": [
    {
     "name": "stdout",
     "output_type": "stream",
     "text": [
      "contact amma added \n"
     ]
    }
   ],
   "source": [
    "addcontact(\"amma\", \"8919388399\")"
   ]
  },
  {
   "cell_type": "code",
   "execution_count": 7,
   "metadata": {},
   "outputs": [
    {
     "name": "stdout",
     "output_type": "stream",
     "text": [
      "sahithi\n",
      "amma\n"
     ]
    }
   ],
   "source": [
    "def listcontacts():\n",
    "    for name in contacts:\n",
    "        print(name)\n",
    "    else:\n",
    "        return\n",
    "listcontacts()"
   ]
  },
  {
   "cell_type": "code",
   "execution_count": 8,
   "metadata": {},
   "outputs": [
    {
     "name": "stdout",
     "output_type": "stream",
     "text": [
      "2 added successfully\n"
     ]
    }
   ],
   "source": [
    "# new contcts is given as a dictionary\n",
    "#merge new contacts with existing contacts\n",
    "def importcontacts(newcontacts):\n",
    "    contacts.update(newcontacts)\n",
    "    print(len(newcontacts.keys()),\"added successfully\")\n",
    "    return\n",
    "newcontacts = {\"nanna\": 998501737, \"nanna1\":8985499455}\n",
    "\n",
    "importcontacts(newcontacts)"
   ]
  },
  {
   "cell_type": "markdown",
   "metadata": {},
   "source": [
    "### packages and modules\n",
    "\n",
    "**package** -> collection of modules(python file\n",
    "**sub package** ->\n",
    "**module** ->a single python file contains functions\n",
    "package->subpackages ->modules ->functions"
   ]
  },
  {
   "cell_type": "code",
   "execution_count": 16,
   "metadata": {},
   "outputs": [
    {
     "data": {
      "text/plain": [
       "123"
      ]
     },
     "execution_count": 16,
     "metadata": {},
     "output_type": "execute_result"
    }
   ],
   "source": [
    "from math import floor as fl\n",
    "\n",
    "fl(123.456)\n",
    "\n"
   ]
  },
  {
   "cell_type": "code",
   "execution_count": 18,
   "metadata": {},
   "outputs": [
    {
     "data": {
      "text/plain": [
       "56"
      ]
     },
     "execution_count": 18,
     "metadata": {},
     "output_type": "execute_result"
    }
   ],
   "source": [
    "# function o generate n random numbers\n",
    "\n",
    "import random\n",
    "\n",
    "\n",
    "random.randint(0,100)\n",
    "    "
   ]
  },
  {
   "cell_type": "code",
   "execution_count": 21,
   "metadata": {},
   "outputs": [
    {
     "name": "stdout",
     "output_type": "stream",
     "text": [
      "51 26 59 81 96 21 51 92 14 77 "
     ]
    }
   ],
   "source": [
    "#generate n random numbers in a given range\n",
    "import random\n",
    "\n",
    "def generatenrandomnumbers(n,lb,ub):\n",
    "    for i in range(0,n):\n",
    "        print(random.randint(lb,ub),end=\" \") \n",
    "generatenrandomnumbers(10,0,100)"
   ]
  },
  {
   "cell_type": "code",
   "execution_count": 24,
   "metadata": {},
   "outputs": [
    {
     "data": {
      "text/plain": [
       "2"
      ]
     },
     "execution_count": 24,
     "metadata": {},
     "output_type": "execute_result"
    }
   ],
   "source": [
    "from Packages import numerical\n",
    "\n",
    "numerical.numberprimefactors(96)"
   ]
  },
  {
   "cell_type": "code",
   "execution_count": 26,
   "metadata": {},
   "outputs": [
    {
     "data": {
      "text/plain": [
       "True"
      ]
     },
     "execution_count": 26,
     "metadata": {},
     "output_type": "execute_result"
    }
   ],
   "source": [
    "from Packages import numerical\n",
    "\n",
    "numerical.isprime(103)"
   ]
  },
  {
   "cell_type": "code",
   "execution_count": null,
   "metadata": {},
   "outputs": [],
   "source": []
  }
 ],
 "metadata": {
  "kernelspec": {
   "display_name": "Python 3",
   "language": "python",
   "name": "python3"
  },
  "language_info": {
   "codemirror_mode": {
    "name": "ipython",
    "version": 3
   },
   "file_extension": ".py",
   "mimetype": "text/x-python",
   "name": "python",
   "nbconvert_exporter": "python",
   "pygments_lexer": "ipython3",
   "version": "3.7.3"
  }
 },
 "nbformat": 4,
 "nbformat_minor": 2
}
