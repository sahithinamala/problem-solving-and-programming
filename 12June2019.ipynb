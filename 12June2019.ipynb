{
 "cells": [
  {
   "cell_type": "markdown",
   "metadata": {},
   "source": [
    "# Problem solving and programming\n",
    "\n",
    "#### Date 12 June 2019\n",
    "\n",
    "### Day objectives\n",
    "\n",
    "- String Slicing\n",
    "- Functions in Python\n",
    "- Basic problems related to conditional statements using functions\n",
    "- python data structures- Lists,tuples and dictionaries\n",
    "- basic operations on data structures\n",
    "- applying data structures to solve problems"
   ]
  },
  {
   "cell_type": "code",
   "execution_count": null,
   "metadata": {},
   "outputs": [],
   "source": []
  },
  {
   "cell_type": "code",
   "execution_count": 94,
   "metadata": {},
   "outputs": [
    {
     "data": {
      "text/plain": [
       "'nhy'"
      ]
     },
     "execution_count": 94,
     "metadata": {},
     "output_type": "execute_result"
    }
   ],
   "source": [
    "### String slicing\n",
    "s1 = \"python\"\n",
    "\n",
    "s1[0] #accessing the first character\n",
    "s1[1] #accessing the second character\n",
    "s1[len(s1)-1] #accessing the last character\n",
    "\n",
    "s1[-1] #another way of accessing the last character\n",
    "s1[-2]#accessing the penultimate character\n",
    "s1[0:2]#accessing the first two characters in a string\n",
    "s1[-2:]#accessing the last two characters\n",
    "s1[4:]#accessing all characters from 5th character to end of string\n",
    "\n",
    "#accessing all characters except first and last character\n",
    "s1[1:5] \n",
    "s1[1:-1]\n",
    "\n",
    "#accessing middle character in a string\n",
    "s1[len(s1)//2]\n",
    "s1[0:6]\n",
    "\n",
    "s1[-1::-1] #reverse of a string\n",
    "\n",
    "s1[-1:-3:-1]#accessing last two characters\n",
    "s1[len(s1)//2:len(s1)//2-2:-1] #reverse the middle two characters in an even length string\n",
    "#access alternate characters in a string\n",
    "s1[::2]\n",
    "#accessing alternate characters in a string in reverse\n",
    "s1[::-2]"
   ]
  },
  {
   "cell_type": "markdown",
   "metadata": {},
   "source": [
    "# functions"
   ]
  },
  {
   "cell_type": "code",
   "execution_count": 95,
   "metadata": {},
   "outputs": [
    {
     "data": {
      "text/plain": [
       "'nohtyp'"
      ]
     },
     "execution_count": 95,
     "metadata": {},
     "output_type": "execute_result"
    }
   ],
   "source": [
    "#functions to reverse a string\n",
    "def reversestring(s):\n",
    "    return s[::-1]\n",
    "reversestring(\"python\")"
   ]
  },
  {
   "cell_type": "code",
   "execution_count": 7,
   "metadata": {},
   "outputs": [
    {
     "data": {
      "text/plain": [
       "True"
      ]
     },
     "execution_count": 7,
     "metadata": {},
     "output_type": "execute_result"
    }
   ],
   "source": [
    "#function to check if a string is a palindrome\n",
    "def palindrome(s):\n",
    "    if s ==s[::-1]:\n",
    "        return True\n",
    "    else:\n",
    "        return False \n",
    "    \n",
    "palindrome(\"12222221\")"
   ]
  },
  {
   "cell_type": "code",
   "execution_count": 14,
   "metadata": {},
   "outputs": [
    {
     "data": {
      "text/plain": [
       "True"
      ]
     },
     "execution_count": 14,
     "metadata": {},
     "output_type": "execute_result"
    }
   ],
   "source": [
    "#function to check if a given year is a leap year\n",
    "def isleapyear(n):\n",
    "    if n%400 ==0 or(n%100!=0 and n%4 ==0):\n",
    "        return True\n",
    "    else:\n",
    "        return False\n",
    "isleapyear(2020)"
   ]
  },
  {
   "cell_type": "code",
   "execution_count": 22,
   "metadata": {},
   "outputs": [
    {
     "data": {
      "text/plain": [
       "3"
      ]
     },
     "execution_count": 22,
     "metadata": {},
     "output_type": "execute_result"
    }
   ],
   "source": [
    "#function to count the number of digits in a given number\n",
    "def numofdigits(n):\n",
    "    return len(str(n))\n",
    "    \n",
    "numofdigits(245)\n",
    "        \n"
   ]
  },
  {
   "cell_type": "code",
   "execution_count": 26,
   "metadata": {},
   "outputs": [
    {
     "data": {
      "text/plain": [
       "456"
      ]
     },
     "execution_count": 26,
     "metadata": {},
     "output_type": "execute_result"
    }
   ],
   "source": [
    "#function of identity the greatest of 4 numbers\n",
    "def greatest4(n1,n2,n3,n4):\n",
    "    if n1>n2 and n1>n3 and n1>n4:\n",
    "        return n1\n",
    "    elif n2>n3 and n2>n4:\n",
    "        return n2\n",
    "    elif n3>n4:\n",
    "        return n3\n",
    "    return n4\n",
    "    \n",
    "greatest4(2,34,456,78)\n",
    "    "
   ]
  },
  {
   "cell_type": "code",
   "execution_count": null,
   "metadata": {},
   "outputs": [],
   "source": []
  },
  {
   "cell_type": "markdown",
   "metadata": {},
   "source": [
    "### iteration\n",
    "\n",
    "- for\n",
    "- while\n",
    "\n",
    "###### for loop\n",
    "\n",
    ".[101,210]\n",
    "for number in range (101,211)\n",
    "print number\n",
    "\n",
    "o/p:\n",
    "101\n",
    "102\n",
    ".\n",
    ".\n",
    "210"
   ]
  },
  {
   "cell_type": "code",
   "execution_count": 31,
   "metadata": {},
   "outputs": [
    {
     "name": "stdout",
     "output_type": "stream",
     "text": [
      "1 2 3 4 5 6 7 8 9 10 11 12 13 14 15 16 17 18 19 20 21 22 23 24 25 26 27 28 29 30 "
     ]
    }
   ],
   "source": [
    "#function to print n natural numbers\n",
    "\n",
    "def printNNaturalNumbers(n):\n",
    "    for i in range (1, n+1):\n",
    "        print(i,end=\" \")\n",
    "    return \n",
    "\n",
    "printNNaturalNumbers(30)\n"
   ]
  },
  {
   "cell_type": "code",
   "execution_count": 61,
   "metadata": {},
   "outputs": [
    {
     "ename": "NameError",
     "evalue": "name 'isprime' is not defined",
     "output_type": "error",
     "traceback": [
      "\u001b[1;31m---------------------------------------------------------------------------\u001b[0m",
      "\u001b[1;31mNameError\u001b[0m                                 Traceback (most recent call last)",
      "\u001b[1;32m<ipython-input-61-f466ffebbc35>\u001b[0m in \u001b[0;36m<module>\u001b[1;34m\u001b[0m\n\u001b[0;32m     12\u001b[0m         \u001b[1;32mreturn\u001b[0m \u001b[0msum\u001b[0m\u001b[1;33m/\u001b[0m\u001b[0mn\u001b[0m\u001b[1;33m\u001b[0m\u001b[1;33m\u001b[0m\u001b[0m\n\u001b[0;32m     13\u001b[0m \u001b[1;33m\u001b[0m\u001b[0m\n\u001b[1;32m---> 14\u001b[1;33m \u001b[0mavgNPrimes\u001b[0m\u001b[1;33m(\u001b[0m\u001b[1;36m10\u001b[0m\u001b[1;33m)\u001b[0m\u001b[1;33m\u001b[0m\u001b[1;33m\u001b[0m\u001b[0m\n\u001b[0m",
      "\u001b[1;32m<ipython-input-61-f466ffebbc35>\u001b[0m in \u001b[0;36mavgNPrimes\u001b[1;34m(n)\u001b[0m\n\u001b[0;32m      5\u001b[0m     \u001b[0mseqcount\u001b[0m\u001b[1;33m=\u001b[0m\u001b[1;36m0\u001b[0m\u001b[1;33m\u001b[0m\u001b[1;33m\u001b[0m\u001b[0m\n\u001b[0;32m      6\u001b[0m     \u001b[1;32mwhile\u001b[0m\u001b[1;33m(\u001b[0m\u001b[0mcount\u001b[0m \u001b[1;33m<\u001b[0m \u001b[0mn\u001b[0m\u001b[1;33m)\u001b[0m\u001b[1;33m:\u001b[0m\u001b[1;33m\u001b[0m\u001b[1;33m\u001b[0m\u001b[0m\n\u001b[1;32m----> 7\u001b[1;33m         \u001b[1;32mif\u001b[0m \u001b[0misprime\u001b[0m\u001b[1;33m(\u001b[0m\u001b[0mseqcount\u001b[0m\u001b[1;33m)\u001b[0m\u001b[1;33m:\u001b[0m\u001b[1;33m\u001b[0m\u001b[1;33m\u001b[0m\u001b[0m\n\u001b[0m\u001b[0;32m      8\u001b[0m             \u001b[0mcount\u001b[0m \u001b[1;33m+=\u001b[0m\u001b[1;36m1\u001b[0m\u001b[1;33m\u001b[0m\u001b[1;33m\u001b[0m\u001b[0m\n\u001b[0;32m      9\u001b[0m             \u001b[0msum\u001b[0m \u001b[1;33m+=\u001b[0m\u001b[0mseqcount\u001b[0m\u001b[1;33m\u001b[0m\u001b[1;33m\u001b[0m\u001b[0m\n",
      "\u001b[1;31mNameError\u001b[0m: name 'isprime' is not defined"
     ]
    }
   ],
   "source": [
    "# function to print N Natural numbers using a while loop\n",
    "def avgNPrimes(n):\n",
    "    count =0\n",
    "    sum=0\n",
    "    seqcount=0\n",
    "    while(count < n):\n",
    "        if isprime(seqcount):\n",
    "            count +=1\n",
    "            sum +=seqcount\n",
    "           # print(seqcount)\n",
    "        seqcount +=1\n",
    "        return sum/n\n",
    "    \n",
    "avgNPrimes(10)"
   ]
  },
  {
   "cell_type": "code",
   "execution_count": 36,
   "metadata": {},
   "outputs": [],
   "source": [
    "# function to print all numbers divisible by 6 and not a factor of 100 in a given range(lb,ub)inclusive\n",
    "\n",
    "def naturalnumber(n,ub,lb):\n",
    "    if ub>n>lb and n%100 !=0 and n%6 ==0:\n",
    "        return n\n"
   ]
  },
  {
   "cell_type": "code",
   "execution_count": 55,
   "metadata": {},
   "outputs": [
    {
     "data": {
      "text/plain": [
       "40000.0"
      ]
     },
     "execution_count": 55,
     "metadata": {},
     "output_type": "execute_result"
    }
   ],
   "source": [
    "#function to find the average of cubes of all even numbers in a given range(lb,ub) inclusive\n",
    "def avgcubesEven(lb,ub):\n",
    "    sum = 0\n",
    "    for i in range(lb,ub+1):\n",
    "        if i%2 ==0:\n",
    "            sum +=i**3\n",
    "        return sum/(ub-lb)\n",
    "avgcubesEven(200,400)\n",
    "\n",
    "    "
   ]
  },
  {
   "cell_type": "code",
   "execution_count": 56,
   "metadata": {},
   "outputs": [
    {
     "name": "stdout",
     "output_type": "stream",
     "text": [
      "The factors of 12 are:\n",
      "1\n",
      "2\n",
      "3\n",
      "4\n",
      "6\n",
      "12\n"
     ]
    }
   ],
   "source": [
    "#function to generate the list of factors for a given number\n",
    "#12 -->1 2 3 4 6 12\n",
    "\n",
    "def print_factors(x):\n",
    "  \n",
    "\n",
    "   print(\"The factors of\",x,\"are:\")\n",
    "   for i in range(1, x + 1):\n",
    "       if x % i == 0:\n",
    "           print(i)\n",
    "\n",
    "\n",
    "num = 12\n",
    "\n",
    "\n",
    "\n",
    "print_factors(num)"
   ]
  },
  {
   "cell_type": "code",
   "execution_count": 47,
   "metadata": {},
   "outputs": [
    {
     "ename": "TypeError",
     "evalue": "genPrimes() takes 0 positional arguments but 1 was given",
     "output_type": "error",
     "traceback": [
      "\u001b[1;31m---------------------------------------------------------------------------\u001b[0m",
      "\u001b[1;31mTypeError\u001b[0m                                 Traceback (most recent call last)",
      "\u001b[1;32m<ipython-input-47-431fd3ee9d07>\u001b[0m in \u001b[0;36m<module>\u001b[1;34m\u001b[0m\n\u001b[0;32m     10\u001b[0m         \u001b[1;32melse\u001b[0m\u001b[1;33m:\u001b[0m\u001b[1;33m\u001b[0m\u001b[1;33m\u001b[0m\u001b[0m\n\u001b[0;32m     11\u001b[0m             \u001b[1;32myield\u001b[0m \u001b[0mx\u001b[0m\u001b[1;33m\u001b[0m\u001b[1;33m\u001b[0m\u001b[0m\n\u001b[1;32m---> 12\u001b[1;33m \u001b[0mgenPrimes\u001b[0m\u001b[1;33m(\u001b[0m\u001b[1;36m3\u001b[0m\u001b[1;33m)\u001b[0m\u001b[1;33m\u001b[0m\u001b[1;33m\u001b[0m\u001b[0m\n\u001b[0m",
      "\u001b[1;31mTypeError\u001b[0m: genPrimes() takes 0 positional arguments but 1 was given"
     ]
    }
   ],
   "source": [
    "#function to generate first n prime numbers\n"
   ]
  },
  {
   "cell_type": "code",
   "execution_count": 49,
   "metadata": {},
   "outputs": [
    {
     "name": "stdout",
     "output_type": "stream",
     "text": [
      "enter a number4\n",
      "24\n"
     ]
    }
   ],
   "source": [
    "#function to calculate the factorial of a given number\n",
    "def factorial(n):\n",
    "    if n ==0:\n",
    "        return 1\n",
    "    else:\n",
    "        return n*factorial(n-1)\n",
    "n=int(input(\"enter a number\"))\n",
    "print(factorial(n))\n",
    "      \n",
    "\n"
   ]
  },
  {
   "cell_type": "code",
   "execution_count": 53,
   "metadata": {},
   "outputs": [
    {
     "name": "stdout",
     "output_type": "stream",
     "text": [
      "3 is a prime number\n"
     ]
    }
   ],
   "source": [
    "#function to check if a given number is prime\n",
    "# Python program to check if the input number is prime or not\n",
    "\n",
    "num = 3\n",
    "\n",
    "if num > 1:\n",
    "   \n",
    "   for i in range(2,num):\n",
    "       if (num % i) == 0:\n",
    "           print(num,\"is not a prime number\")\n",
    "          \n",
    "   else:\n",
    "       print(num,\"is a prime number\")\n",
    "       "
   ]
  },
  {
   "cell_type": "code",
   "execution_count": null,
   "metadata": {},
   "outputs": [],
   "source": [
    "#function to generate all perfect numbers in a given range\n",
    "perfect number - sum of all its factors is equal to the "
   ]
  },
  {
   "cell_type": "code",
   "execution_count": 2,
   "metadata": {},
   "outputs": [
    {
     "ename": "NameError",
     "evalue": "name 'isperfect' is not defined",
     "output_type": "error",
     "traceback": [
      "\u001b[1;31m---------------------------------------------------------------------------\u001b[0m",
      "\u001b[1;31mNameError\u001b[0m                                 Traceback (most recent call last)",
      "\u001b[1;32m<ipython-input-2-50ca0a308f4b>\u001b[0m in \u001b[0;36m<module>\u001b[1;34m\u001b[0m\n\u001b[0;32m      9\u001b[0m     \u001b[1;32mreturn\u001b[0m\u001b[1;33m\u001b[0m\u001b[1;33m\u001b[0m\u001b[0m\n\u001b[0;32m     10\u001b[0m \u001b[1;33m\u001b[0m\u001b[0m\n\u001b[1;32m---> 11\u001b[1;33m \u001b[0mgenerateperfect\u001b[0m\u001b[1;33m(\u001b[0m\u001b[1;36m1\u001b[0m\u001b[1;33m,\u001b[0m \u001b[1;36m1000\u001b[0m\u001b[1;33m)\u001b[0m\u001b[1;33m\u001b[0m\u001b[1;33m\u001b[0m\u001b[0m\n\u001b[0m",
      "\u001b[1;32m<ipython-input-2-50ca0a308f4b>\u001b[0m in \u001b[0;36mgenerateperfect\u001b[1;34m(lb, ub)\u001b[0m\n\u001b[0;32m      5\u001b[0m \u001b[1;32mdef\u001b[0m \u001b[0mgenerateperfect\u001b[0m\u001b[1;33m(\u001b[0m\u001b[0mlb\u001b[0m\u001b[1;33m,\u001b[0m\u001b[0mub\u001b[0m\u001b[1;33m)\u001b[0m\u001b[1;33m:\u001b[0m\u001b[1;33m\u001b[0m\u001b[1;33m\u001b[0m\u001b[0m\n\u001b[0;32m      6\u001b[0m     \u001b[1;32mfor\u001b[0m \u001b[0mi\u001b[0m \u001b[1;32min\u001b[0m \u001b[0mrange\u001b[0m\u001b[1;33m(\u001b[0m\u001b[0mlb\u001b[0m\u001b[1;33m,\u001b[0m\u001b[0mub\u001b[0m\u001b[1;33m+\u001b[0m\u001b[1;36m1\u001b[0m\u001b[1;33m)\u001b[0m\u001b[1;33m:\u001b[0m\u001b[1;33m\u001b[0m\u001b[1;33m\u001b[0m\u001b[0m\n\u001b[1;32m----> 7\u001b[1;33m         \u001b[1;32mif\u001b[0m \u001b[0misperfect\u001b[0m\u001b[1;33m(\u001b[0m\u001b[0mi\u001b[0m\u001b[1;33m)\u001b[0m\u001b[1;33m:\u001b[0m\u001b[1;33m\u001b[0m\u001b[1;33m\u001b[0m\u001b[0m\n\u001b[0m\u001b[0;32m      8\u001b[0m             \u001b[0mprint\u001b[0m\u001b[1;33m(\u001b[0m\u001b[0mi\u001b[0m\u001b[1;33m,\u001b[0m\u001b[0mend\u001b[0m\u001b[1;33m=\u001b[0m\u001b[1;34m\" \"\u001b[0m\u001b[1;33m)\u001b[0m\u001b[1;33m\u001b[0m\u001b[1;33m\u001b[0m\u001b[0m\n\u001b[0;32m      9\u001b[0m     \u001b[1;32mreturn\u001b[0m\u001b[1;33m\u001b[0m\u001b[1;33m\u001b[0m\u001b[0m\n",
      "\u001b[1;31mNameError\u001b[0m: name 'isperfect' is not defined"
     ]
    }
   ],
   "source": [
    "def isprime(n):\n",
    "    if factorslist(n)==n:\n",
    "        return True\n",
    "    return False\n",
    "def generateperfect(lb,ub):\n",
    "    for i in range(lb,ub+1):\n",
    "        if isperfect(i):\n",
    "            print(i,end=\" \")\n",
    "    return\n",
    "\n",
    "generateperfect(1, 1000)"
   ]
  },
  {
   "cell_type": "code",
   "execution_count": 7,
   "metadata": {},
   "outputs": [
    {
     "name": "stdout",
     "output_type": "stream",
     "text": [
      "500 502 504 506 508 510 512 514 516 518 520 522 524 "
     ]
    }
   ],
   "source": [
    "# function to print the alternate values in a range in the same line\n",
    "#[500, 550] -> 500 502 504 ..........550\n",
    "#(500, 550) -> 501 503 505 ..........549\n",
    "#range (500, 550) ->500 501 502 ....... 549\n",
    "#All set based functions in python have start value\n",
    "\n",
    "def alternatevalues(start, end):\n",
    "    for n in range(start, end+1, 2):\n",
    "        print(n,end=\" \")\n",
    "    return \n",
    "alternatevalues(500, 525)\n",
    "\n",
    "\n",
    " "
   ]
  },
  {
   "cell_type": "code",
   "execution_count": 5,
   "metadata": {},
   "outputs": [
    {
     "name": "stdout",
     "output_type": "stream",
     "text": [
      "10 9 8 7 6 5 4 3 2 1 0 "
     ]
    }
   ],
   "source": [
    "#function to print reverse of given range in the same line\n",
    "\n",
    "def reversevalue(start,end):\n",
    "    for n in range(end,start-1,-1):\n",
    "        print(n,end=\" \")\n",
    "    return\n",
    "\n",
    "reversevalue(0,10)\n",
    "    "
   ]
  },
  {
   "cell_type": "code",
   "execution_count": 12,
   "metadata": {},
   "outputs": [
    {
     "name": "stdout",
     "output_type": "stream",
     "text": [
      "9 7 5 3 1 "
     ]
    }
   ],
   "source": [
    "#function to print the odd numbers in reverse order in a range\n",
    "\n",
    "def reversevalue(start,end):\n",
    "    for n in range(end-1, start-1,-2):\n",
    "        print(n,end=\" \")\n",
    "    return\n",
    "\n",
    "reversevalue(1,10)"
   ]
  },
  {
   "cell_type": "code",
   "execution_count": 21,
   "metadata": {},
   "outputs": [
    {
     "data": {
      "text/plain": [
       "10"
      ]
     },
     "execution_count": 21,
     "metadata": {},
     "output_type": "execute_result"
    }
   ],
   "source": [
    "#function to calculate the sum of numbers in a range\n",
    "\n",
    "def sumofnumbers(start,end):\n",
    "    sum =0\n",
    "    for n in range(start,end+1):\n",
    "        sum = sum+n\n",
    "    return sum\n",
    "\n",
    "sumofnumbers(1,4)"
   ]
  },
  {
   "cell_type": "code",
   "execution_count": 30,
   "metadata": {},
   "outputs": [
    {
     "data": {
      "text/plain": [
       "2.0"
      ]
     },
     "execution_count": 30,
     "metadata": {},
     "output_type": "execute_result"
    }
   ],
   "source": [
    "#function to calculate the average of a given range\n",
    "def avgnumber(start, end):\n",
    "    sum =0\n",
    "    count =0\n",
    "    for n in range(start,end+1):\n",
    "        \n",
    "        sum=sum+n\n",
    "        count=count +1\n",
    "        avg=sum/n\n",
    "    return sum/(end-start+1)\n",
    "\n",
    "avgnumber(1,3)\n",
    "    \n",
    "    "
   ]
  },
  {
   "cell_type": "code",
   "execution_count": 46,
   "metadata": {},
   "outputs": [
    {
     "name": "stdout",
     "output_type": "stream",
     "text": [
      "2000 2004 2008 2012 2016 2020 "
     ]
    }
   ],
   "source": [
    "#function to generate all leap years in a given time period\n",
    "#2000 - 2020 --> 2000 2004 2008 2012 2016 2020\n",
    "\n",
    "\n",
    "\n",
    "def leapyear(n):\n",
    "    if n%400 ==0 or (n%4 ==0 and n !=0):\n",
    "        return True\n",
    "    return False\n",
    "def generateleapyears(start,end):\n",
    "    for n in range(start, end+1):\n",
    "        if leapyear(n):\n",
    "            print(n, end=\" \")\n",
    "    return\n",
    "\n",
    "generateleapyears(2000,2020)"
   ]
  },
  {
   "cell_type": "code",
   "execution_count": 6,
   "metadata": {},
   "outputs": [
    {
     "data": {
      "text/plain": [
       "366"
      ]
     },
     "execution_count": 6,
     "metadata": {},
     "output_type": "execute_result"
    }
   ],
   "source": [
    "#calculate the number of days in a given time period using leap year\n",
    "def isleapyear(n):\n",
    "    if n%400 ==0 or(n%100 !=0 and n%4 ==0):\n",
    "        return True\n",
    "    return False\n",
    "def timeperiod(n):\n",
    "    sum=0\n",
    "    if isleapyear(n):\n",
    "        sum=sum+366\n",
    "        return sum\n",
    "    else:\n",
    "        sum=sum+365\n",
    "    return sum\n",
    "        \n",
    "timeperiod(2024)\n",
    "    "
   ]
  },
  {
   "cell_type": "code",
   "execution_count": 21,
   "metadata": {},
   "outputs": [
    {
     "data": {
      "text/plain": [
       "9504"
      ]
     },
     "execution_count": 21,
     "metadata": {},
     "output_type": "execute_result"
    }
   ],
   "source": [
    "\n",
    "#(11,1975,3, 1999) -->\n",
    "#2,2016 ,6,2019\n",
    "#[all days from feb 2016 to dec 2016,\n",
    "# all days for years between 2016 and 2019\n",
    "# all days from jan to june 2019]\n",
    "#no of hours = 24*no of days\n",
    "#  3steps\n",
    "     #1.start month year to end of year - calculate no of days\n",
    "    #2.calculate days for all years between start year and end year\n",
    "            #2017 , 2018 - 365*no  of years\n",
    "    #3 calculate days from jan to end month year\n",
    "    \n",
    "# Excluding Feb\n",
    "# first six months - 1 ,3, 4, 5, 6 ,7\n",
    "                    # all odd months have 31 days\n",
    "                    # all even months have 30 days\n",
    "#last six months -8, 9, 10 ,11 ,12\n",
    "                    # all even months have 31 days\n",
    "                    # all odd months have 30 days\n",
    "#31 -(month <=7 and month%2 !=0)||(month >=8 and month)\n",
    "#                return 31\n",
    "\n",
    "#            else\n",
    "#               return 30\n",
    "\n",
    "\n",
    "def numberofdaysmonth(month,year):\n",
    "    if month ==2:\n",
    "        if isleapyear(year):\n",
    "            return 29\n",
    "        return 28\n",
    "    elif (month <= 7 and month % 2!=0 ) or (month >=8 and month%2!=0):\n",
    "        return 31\n",
    "    else:\n",
    "        return 30\n",
    "\n",
    "    \n",
    "def daysinstartyear(startmonth,startyear):\n",
    "    days =0\n",
    "    for month in range(startmonth,13):\n",
    "        days += numberofdaysmonth(month, startyear)\n",
    "    return days\n",
    "\n",
    "daysinstartyear(12,2020)\n",
    "\n",
    "def daysinendyear(endmonth, endyear):\n",
    "    days = 0\n",
    "    for month in range(1,endmonth+1):\n",
    "        days +=numberofdaysmonth(month,endyear)\n",
    "    return days\n",
    "daysinendyear(11,2018)\n",
    "\n",
    "def numberofhours(startmonth,startyear,endmonth,endyear):\n",
    "    days = 0\n",
    "    days +=daysinstartyear(startmonth,startyear)\n",
    "    days +=daysinstartyear(endmonth,endyear)\n",
    "    if endyear - startyear ==2:\n",
    "        days +=numberofdays(startyear+1,startyear+1)\n",
    "    elif endyear - startyear >2:\n",
    "        days += numberofdaysmonth(startyear+1,endyear-1)\n",
    "    return 24*days\n",
    "numberofhours(6,2018,7,2018)\n",
    "\n"
   ]
  },
  {
   "cell_type": "code",
   "execution_count": null,
   "metadata": {},
   "outputs": [],
   "source": [
    "\n"
   ]
  }
 ],
 "metadata": {
  "kernelspec": {
   "display_name": "Python 3",
   "language": "python",
   "name": "python3"
  },
  "language_info": {
   "codemirror_mode": {
    "name": "ipython",
    "version": 3
   },
   "file_extension": ".py",
   "mimetype": "text/x-python",
   "name": "python",
   "nbconvert_exporter": "python",
   "pygments_lexer": "ipython3",
   "version": "3.7.3"
  }
 },
 "nbformat": 4,
 "nbformat_minor": 2
}
