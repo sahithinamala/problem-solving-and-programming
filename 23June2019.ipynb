{
 "cells": [
  {
   "cell_type": "markdown",
   "metadata": {},
   "source": [
    "### Practise session\n",
    "\n",
    "- completed work of 22nd june\n",
    "- new methods"
   ]
  },
  {
   "cell_type": "code",
   "execution_count": null,
   "metadata": {},
   "outputs": [],
   "source": [
    "# function to count the number of characters in a file \n",
    "def charcountfile(filepath):\n",
    "    count = len(readfile(filepath))\n",
    "    return count\n",
    "charcountfile(filepath)"
   ]
  },
  {
   "cell_type": "code",
   "execution_count": null,
   "metadata": {},
   "outputs": [],
   "source": [
    "# function to count number of words in a file\n",
    "import re\n",
    "def wordcountfile(filepath):\n",
    "    pattern = \"[\\n]\"\n",
    "    filedata = readfile(filepath)\n",
    "    count = len(re.split(pattern, filedata))\n",
    "    return count\n",
    "wordcount(filepath)"
   ]
  },
  {
   "cell_type": "code",
   "execution_count": 2,
   "metadata": {},
   "outputs": [
    {
     "data": {
      "text/plain": [
       "[1, 2, 3]"
      ]
     },
     "execution_count": 2,
     "metadata": {},
     "output_type": "execute_result"
    }
   ],
   "source": [
    "# function to get unique elements in a list\n",
    "#[1,2,3,3,2,1] -> [1,2,3]\n",
    "# create an empty unique list [1,2,3]\n",
    "\n",
    "def uniquedata(li):\n",
    "    # create an empty unique list\n",
    "    unique = []\n",
    "    # for every element in the main list, check if it exists in the unique list\n",
    "       # check if it exist, add it to unique list\n",
    "       # if it doesnot exist, add it to unique list\n",
    "       # else if it already exists, move on to the \n",
    "    for element in li:\n",
    "        if element not in unique:\n",
    "            unique.append(element)\n",
    "    return unique\n",
    "li = [1,2,3,3,2,1]\n",
    "\n",
    "uniquedata(li)\n",
    "    "
   ]
  },
  {
   "cell_type": "code",
   "execution_count": null,
   "metadata": {},
   "outputs": [],
   "source": [
    "# function to count the number of unique words in a text file\n",
    "\n",
    "def countuniquewords(filepath):\n",
    "    "
   ]
  },
  {
   "cell_type": "code",
   "execution_count": 3,
   "metadata": {},
   "outputs": [
    {
     "name": "stdout",
     "output_type": "stream",
     "text": [
      "frequency of new is : 1\n",
      "frequency of dataline2/nline3line2 is : 1\n",
      "frequency of line3line is : 1\n",
      "frequency of 4line is : 1\n",
      "frequency of 5 is : 2\n",
      "frequency of line is : 2\n",
      "frequency of 4 is : 1\n"
     ]
    }
   ],
   "source": [
    "# function to print the frequency count of all words\n",
    "#frequency distribution\n",
    "\n",
    "# data in line 1\n",
    "# data in line 2\n",
    "# data in line 3\n",
    "# o/p\n",
    "# data : 3\n",
    "# in : 3\n",
    "#line : 3\n",
    "# 1:1\n",
    "# 2:1\n",
    "# 3:1\n",
    "def frequencycount(filepath):\n",
    "    li = []\n",
    "    ul = []\n",
    "    count = 0\n",
    "    with open(filepath, \"r\") as f:\n",
    "        filedata = f.read()\n",
    "        l = filedata.split()\n",
    "        for i in l:\n",
    "            if i not in ul:\n",
    "                ul.append(i)\n",
    "        for i in range(0, len(ul)):\n",
    "            print(\"frequency of\",ul[i], \"is :\", l.count(ul[i]))\n",
    "filepath = \"datafiles/data.txt\"\n",
    "frequencycount(filepath)"
   ]
  },
  {
   "cell_type": "code",
   "execution_count": null,
   "metadata": {},
   "outputs": [],
   "source": [
    "#contacts application\n",
    "\n",
    "# find and replace application"
   ]
  },
  {
   "cell_type": "code",
   "execution_count": null,
   "metadata": {},
   "outputs": [],
   "source": []
  }
 ],
 "metadata": {
  "kernelspec": {
   "display_name": "Python 3",
   "language": "python",
   "name": "python3"
  },
  "language_info": {
   "codemirror_mode": {
    "name": "ipython",
    "version": 3
   },
   "file_extension": ".py",
   "mimetype": "text/x-python",
   "name": "python",
   "nbconvert_exporter": "python",
   "pygments_lexer": "ipython3",
   "version": "3.7.3"
  }
 },
 "nbformat": 4,
 "nbformat_minor": 2
}
