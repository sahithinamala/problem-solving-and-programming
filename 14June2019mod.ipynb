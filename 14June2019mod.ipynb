{
 "cells": [
  {
   "cell_type": "markdown",
   "metadata": {},
   "source": [
    "### problem solving and programming in python - day 4\n",
    "\n",
    "#### date- 14 june 2019\n",
    "\n",
    "#### day objectives\n",
    "\n",
    "- python data structures\n",
    " - lists\n",
    " - tuples\n",
    " - dictionaries\n",
    "- Basic problem set on data structures\n",
    "- advances problem set\n",
    "- packages and modules in python"
   ]
  },
  {
   "cell_type": "code",
   "execution_count": null,
   "metadata": {},
   "outputs": [],
   "source": []
  },
  {
   "cell_type": "markdown",
   "metadata": {},
   "source": [
    "### python data structures\n",
    "\n",
    "#### lists"
   ]
  },
  {
   "cell_type": "code",
   "execution_count": 35,
   "metadata": {},
   "outputs": [
    {
     "data": {
      "text/plain": [
       "456.0"
      ]
     },
     "execution_count": 35,
     "metadata": {},
     "output_type": "execute_result"
    }
   ],
   "source": [
    "li = [123 , 978 , 654]\n",
    "li # Access the entire list\n",
    "li[1] # Access an element with index in a list\n",
    "li[1:] #Access all elements from second element to last element\n",
    "li[::-1] #reversing list elements and reassigning list\n",
    "li = li[::-1]\n",
    "li\n",
    "li[::2] # Accessing even index elements\n",
    "li[1::2] # Accessing odd index elements\n",
    "# lists can be accessed , manipulated in two different ways\n",
    "     # direct referencing - [index]\n",
    "     #indirect referencing- through functions        \n",
    "li. append(345)# adding an element to end of list\n",
    "li.insert(1,234)# adding an element at a particular index\n",
    "li.sort() # sort elements in ascending order\n",
    "li.pop()# remove the last element in a list\n",
    "li.pop(1)#remove an element at a particular index\n",
    "li2=[234,456,789]\n",
    "li.extend(li2)# merge list 2 into list 1\n",
    "sum(li) #sum of all elements in a list\n",
    "max(li)# maximum element in a list\n",
    "min(li)# minimum element in a list\n",
    "len(li) # number of elements in a list\n",
    "sum(li)/ len(li) # average of list elements\n",
    "sum(li[1::2])/len(li[1::2])# average of all alternate elements\n",
    "\n"
   ]
  },
  {
   "cell_type": "code",
   "execution_count": 36,
   "metadata": {},
   "outputs": [
    {
     "data": {
      "text/plain": [
       "234"
      ]
     },
     "execution_count": 36,
     "metadata": {},
     "output_type": "execute_result"
    }
   ],
   "source": [
    "# function to identify the second largeat element in a list\n",
    "\n",
    "def secondlargest(li):\n",
    "    li.sort()\n",
    "    return li[-2]\n",
    "secondlargest(li)\n",
    "\n",
    "# function that returns the nth largest\n",
    "def genericlargest(li,n):\n",
    "    li.sort()\n",
    "    return li[-n]\n",
    "genericlargest(li,5)\n"
   ]
  },
  {
   "cell_type": "code",
   "execution_count": 45,
   "metadata": {},
   "outputs": [
    {
     "data": {
      "text/plain": [
       "1"
      ]
     },
     "execution_count": 45,
     "metadata": {},
     "output_type": "execute_result"
    }
   ],
   "source": [
    "# function to search for data in a list\n",
    "# search for the key in the list and return the index\n",
    "def linearsearch(li,key):\n",
    "    l = len(li)\n",
    "    for i in range(l):\n",
    "        if key ==li[i]:\n",
    "            return i\n",
    "    else:\n",
    "        return -1\n",
    "    \n",
    "linearsearch(li,234)"
   ]
  },
  {
   "cell_type": "code",
   "execution_count": 67,
   "metadata": {},
   "outputs": [
    {
     "data": {
      "text/plain": [
       "3"
      ]
     },
     "execution_count": 67,
     "metadata": {},
     "output_type": "execute_result"
    }
   ],
   "source": [
    "# function to coun t the occarances of a character in a string\n",
    "# \"python programming\" , m -->2\n",
    "\n",
    "def countcharoccurances(s,c):\n",
    "    count = 0\n",
    "    for c in s:\n",
    "        if ch ==c:\n",
    "            count +=1\n",
    "        return count\n",
    "def countcharoccurances2(s,c):\n",
    "    return s.count(c)\n",
    "countcharoccurances2(\"python programming\", 'py')\n",
    "            \n",
    "# function to find the number of occurances of \n",
    "# \"abcabcddcba\" ,\"ab\"->2\n",
    "def countstroccurances(s,subs):\n",
    "    count = 0\n",
    "    l = len(subs)\n",
    "    for i in range(len(s)):\n",
    "        if subs== s[i:i+l]:\n",
    "            count+=1\n",
    "    return count\n",
    "        \n",
    "countstroccurances(\"abcabcddcbaaaa\",'aa')\n",
    "                \n",
    "    \n",
    "\n",
    "\n"
   ]
  },
  {
   "cell_type": "code",
   "execution_count": 69,
   "metadata": {},
   "outputs": [
    {
     "data": {
      "text/plain": [
       "[1, 2, 3, 4, 5, 6]"
      ]
     },
     "execution_count": 69,
     "metadata": {},
     "output_type": "execute_result"
    }
   ],
   "source": [
    "s = \"1 2 3 4 5 6\"\n",
    "li =  s.split()\n",
    "numberlist = []\n",
    "for i in li:\n",
    "    numberlist.append(int(i))\n",
    "numberlist"
   ]
  },
  {
   "cell_type": "code",
   "execution_count": 74,
   "metadata": {},
   "outputs": [
    {
     "name": "stdout",
     "output_type": "stream",
     "text": [
      "6\n",
      "1 2 3 4 5 6\n"
     ]
    },
    {
     "data": {
      "text/plain": [
       "1"
      ]
     },
     "execution_count": 74,
     "metadata": {},
     "output_type": "execute_result"
    }
   ],
   "source": [
    "n = int(input())\n",
    "s = input()\n",
    "# \"1 2 3 4 5\"\n",
    "li = []\n",
    "for i in s.split():\n",
    "    li.append(abs(int(i)))\n",
    "    # -1000 -100 1 2 3 4\n",
    "min(li)\n",
    "\n",
    "    \n",
    "    "
   ]
  },
  {
   "cell_type": "code",
   "execution_count": 77,
   "metadata": {},
   "outputs": [
    {
     "name": "stdout",
     "output_type": "stream",
     "text": [
      "6\n",
      "-1 0 1 -2 2 3\n"
     ]
    },
    {
     "data": {
      "text/plain": [
       "0"
      ]
     },
     "execution_count": 77,
     "metadata": {},
     "output_type": "execute_result"
    }
   ],
   "source": [
    "n = int(input())\n",
    "s= input()\n",
    "s= s.split()\n",
    "li=[]\n",
    "for i in s:\n",
    "    li.append(abs(int(i)))\n",
    "def closestzero(li):\n",
    "    if 0 in li:\n",
    "        return 0\n",
    "    else:\n",
    "        li.sort()\n",
    "        pc=[]\n",
    "        nc=[]\n",
    "        for i in li:\n",
    "            if i>0:\n",
    "                pc.append(i)\n",
    "        for i in li:\n",
    "            if i<0:\n",
    "                nc.append(i)\n",
    "        if len(nc) ==0:\n",
    "            return min(pc)\n",
    "        elif len(pc) ==0:\n",
    "            return max(nc)\n",
    "        else:\n",
    "            nz = max(nc)\n",
    "            pz = min(pc)\n",
    "            if abs(nc)>pc:\n",
    "                return pc\n",
    "            elif abs(nc)>pc or abs(nc) ==pz:\n",
    "                return pz\n",
    "            else:\n",
    "                return nz\n",
    "closestzero(li)\n"
   ]
  },
  {
   "cell_type": "code",
   "execution_count": null,
   "metadata": {},
   "outputs": [],
   "source": []
  }
 ],
 "metadata": {
  "kernelspec": {
   "display_name": "Python 3",
   "language": "python",
   "name": "python3"
  },
  "language_info": {
   "codemirror_mode": {
    "name": "ipython",
    "version": 3
   },
   "file_extension": ".py",
   "mimetype": "text/x-python",
   "name": "python",
   "nbconvert_exporter": "python",
   "pygments_lexer": "ipython3",
   "version": "3.7.3"
  }
 },
 "nbformat": 4,
 "nbformat_minor": 2
}
